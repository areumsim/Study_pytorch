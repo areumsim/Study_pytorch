{
  "cells": [
    {
      "cell_type": "markdown",
      "metadata": {
        "id": "C-z_H2MehhPz"
      },
      "source": [
        "# 텐서 - 책 3장"
      ]
    },
    {
      "cell_type": "code",
      "execution_count": null,
      "metadata": {
        "colab": {
          "base_uri": "https://localhost:8080/"
        },
        "id": "sPwtjhM-hnOj",
        "outputId": "cd6b191e-bf49-4426-b9f7-21dffcf3080d"
      },
      "outputs": [
        {
          "data": {
            "text/plain": [
              "[1.0, 2.0, 3.0]"
            ]
          },
          "execution_count": 1,
          "metadata": {},
          "output_type": "execute_result"
        }
      ],
      "source": [
        "import torch\n",
        "a = [1.0, 2.0, 3.0]\n",
        "\n",
        "torch.ones(3)\n",
        "torch.zeros(3)"
      ]
    },
    {
      "cell_type": "code",
      "execution_count": null,
      "metadata": {
        "colab": {
          "base_uri": "https://localhost:8080/"
        },
        "id": "D9_3uh29hnWR",
        "outputId": "946e1f97-2589-434f-e7b0-b486ec83c618"
      },
      "outputs": [
        {
          "name": "stdout",
          "output_type": "stream",
          "text": [
            "tensor([[0., 0., 0., 0., 0.],\n",
            "        [0., 0., 0., 0., 0.]])\n",
            "torch.Size([2, 5])\n",
            "\n",
            "tensor([[[0., 0., 0., 0., 0.],\n",
            "         [0., 0., 0., 0., 0.]]])\n",
            "torch.Size([1, 2, 5])\n"
          ]
        }
      ],
      "source": [
        "a = torch.zeros([2,5])\n",
        "print(a)\n",
        "print(a.shape)\n",
        "print()\n",
        "\n",
        "a = a[None] #길이가1인 차원을 추가함, unsqueeze\n",
        "print(a)\n",
        "print(a.shape)\n",
        "print()\n",
        "\n",
        "a = a[None] #길이가1인 차원을 추가함, unsqueeze\n",
        "print(a)\n",
        "print(a.shape)"
      ]
    },
    {
      "cell_type": "code",
      "execution_count": null,
      "metadata": {
        "id": "nb3NZy-BhEYe"
      },
      "outputs": [],
      "source": []
    },
    {
      "cell_type": "markdown",
      "metadata": {
        "id": "-7sKIqnyhkBd"
      },
      "source": [
        "# 1. Regression"
      ]
    },
    {
      "cell_type": "code",
      "execution_count": null,
      "metadata": {
        "id": "3M9B6RNdaYBW"
      },
      "outputs": [],
      "source": [
        "import torch\n",
        "import pandas as pd\n",
        "import numpy as np\n",
        "import matplotlib.pyplot as plt\n",
        "\n",
        "data = pd.read_csv(\"/content/regression.csv\")\n",
        "\n",
        "x = data['x']\n",
        "y = data['y']\n",
        "\n",
        "x = torch.tensor(x, requires_grad=True)\n",
        "y = torch.tensor(y)"
      ]
    },
    {
      "cell_type": "code",
      "execution_count": null,
      "metadata": {
        "colab": {
          "base_uri": "https://localhost:8080/",
          "height": 279
        },
        "id": "Bbc3cUoLmrQl",
        "outputId": "01b4b6df-ef53-412b-c273-b2c624706f46"
      },
      "outputs": [
        {
          "data": {
            "image/png": "[encoded data removed]",
            "text/plain": [
              "<Figure size 432x288 with 1 Axes>"
            ]
          },
          "metadata": {},
          "output_type": "display_data"
        }
      ],
      "source": [
        "from matplotlib import pyplot as plt\n",
        "\n",
        "plt.scatter(x.detach().numpy(), y.detach().numpy(), s=2)\n",
        "plt.xlabel('x')\n",
        "plt.ylabel('y')\n",
        "plt.show()\n",
        "\n",
        "#####  ?? detach().numpy()\n",
        "# ref. https://byeongjo-kim.tistory.com/32\n",
        "# .detach() : \n",
        "  # \"Returns a new Tensor, detached from the current graph. The result will never require gradient.\" \n",
        "  # 즉 graph에서 분리한 새로운 tensor를 리턴한다.\n",
        "  # detach()는 이 연산 기록으로 부터 분리한 tensor을 반환\n",
        "\n",
        "# .numpy() :\n",
        "  # tensor를 numpy로 변환"
      ]
    },
    {
      "cell_type": "code",
      "execution_count": null,
      "metadata": {
        "colab": {
          "base_uri": "https://localhost:8080/"
        },
        "id": "bAUMNvo9eMC6",
        "outputId": "cbf6999f-59d2-4096-f271-56a4cb378513"
      },
      "outputs": [
        {
          "name": "stdout",
          "output_type": "stream",
          "text": [
            "epoch:000, w:0.6176, b:0.2987, loss:44.3576 \n",
            "epoch:050, w:1.7507, b:0.4935, loss:15.3416 \n",
            "epoch:100, w:2.3492, b:0.7062, loss:7.8862 \n",
            "epoch:150, w:2.5635, b:0.8984, loss:6.3209 \n",
            "epoch:200, w:2.6393, b:1.0721, loss:5.6222 \n",
            "epoch:250, w:2.6660, b:1.2289, loss:5.1245 \n",
            "epoch:300, w:2.6755, b:1.3705, loss:4.7277 \n",
            "epoch:350, w:2.6788, b:1.4984, loss:4.4052 \n",
            "epoch:400, w:2.6800, b:1.6139, loss:4.1423 \n",
            "epoch:450, w:2.6804, b:1.7181, loss:3.9280 \n",
            "epoch:500, w:2.6805, b:1.8123, loss:3.7532 \n",
            "epoch:550, w:2.6806, b:1.8974, loss:3.6106 \n",
            "epoch:600, w:2.6806, b:1.9742, loss:3.4944 \n",
            "epoch:650, w:2.6806, b:2.0435, loss:3.3996 \n",
            "epoch:700, w:2.6806, b:2.1061, loss:3.3223 \n",
            "epoch:750, w:2.6806, b:2.1627, loss:3.2592 \n",
            "epoch:800, w:2.6806, b:2.2138, loss:3.2078 \n",
            "epoch:850, w:2.6806, b:2.2599, loss:3.1659 \n",
            "epoch:900, w:2.6806, b:2.3015, loss:3.1317 \n",
            "epoch:950, w:2.6806, b:2.3391, loss:3.1038 \n",
            "epoch:1000, w:2.6806, b:2.3731, loss:3.0811 \n",
            "epoch:1050, w:2.6806, b:2.4038, loss:3.0625 \n",
            "epoch:1100, w:2.6806, b:2.4315, loss:3.0474 \n",
            "epoch:1150, w:2.6806, b:2.4565, loss:3.0351 \n",
            "epoch:1200, w:2.6806, b:2.4791, loss:3.0250 \n",
            "epoch:1250, w:2.6806, b:2.4995, loss:3.0168 \n",
            "epoch:1300, w:2.6806, b:2.5179, loss:3.0101 \n",
            "epoch:1350, w:2.6806, b:2.5345, loss:3.0047 \n",
            "epoch:1400, w:2.6806, b:2.5496, loss:3.0002 \n",
            "epoch:1450, w:2.6806, b:2.5631, loss:2.9966 \n",
            "epoch:1500, w:2.6806, b:2.5754, loss:2.9936 \n",
            "epoch:1550, w:2.6806, b:2.5865, loss:2.9912 \n",
            "epoch:1600, w:2.6806, b:2.5964, loss:2.9893 \n",
            "epoch:1650, w:2.6806, b:2.6055, loss:2.9876 \n",
            "epoch:1700, w:2.6806, b:2.6136, loss:2.9863 \n",
            "epoch:1750, w:2.6806, b:2.6210, loss:2.9853 \n",
            "epoch:1800, w:2.6806, b:2.6276, loss:2.9844 \n",
            "epoch:1850, w:2.6806, b:2.6336, loss:2.9837 \n",
            "epoch:1900, w:2.6806, b:2.6390, loss:2.9831 \n",
            "epoch:1950, w:2.6806, b:2.6439, loss:2.9826 \n"
          ]
        }
      ],
      "source": [
        "# w,b 모두 uniform(0,1) initializing \n",
        "#w 정의\n",
        "w = torch.rand(1, dtype=float, requires_grad=True)\n",
        "\n",
        "#b 정의\n",
        "b = torch.rand(1, 1, dtype=float, requires_grad=True)\n",
        "\n",
        "# # y=wx+b\n",
        "# def func(w, b):\n",
        "#   return ( x*w + b )\n",
        "\n",
        "# loss function 정의\n",
        "# loss_fn = nn.CrossEntropyLoss()\n",
        "\n",
        "# optim method 정의\n",
        "optim = torch.optim.SGD([w, b], lr=1e-4, momentum=0.9)\n",
        "# optimizer = torch.optim.SGD(model.parameters(), lr=learning_rate)\n",
        "\n",
        "#####  #####  #####\n",
        "EPOCH = 2000\n",
        "\n",
        "tr_epoch = []\n",
        "tr_loss = []\n",
        "tr_w = []\n",
        "tr_b = []\n",
        "\n",
        "# optimization 과정\n",
        "for epoch in range(EPOCH):\n",
        "  # y=wx+b\n",
        "  yhat = ( x*w + b )\n",
        "\n",
        "  # loss function 정의\n",
        "  loss = ((y - yhat)**2).mean()\n",
        "  \n",
        "  # 변화도를 0으로, 역전파 수행, 가중치 갱신\n",
        "  optim.zero_grad()  # 모델 매개변수의 변화도를 재설정\n",
        "  loss.backward() # 예측 손실(prediction loss)을 역전파, 각 매개변수에 대한 손실의 변화도를 저장\n",
        "  optim.step()  # 수집된 변화도로 매개변수를 조정\n",
        "\n",
        "  if epoch % 50 == 0 :\n",
        "    print('epoch:{:03d}, w:{:.4f}, b:{:.4f}, loss:{:.4f} '.format(epoch, w.item(), b.item(), loss.item()))\n",
        "    tr_epoch.append(epoch)\n",
        "    tr_loss.append(loss.item())\n",
        "    tr_w.append(w.item())\n",
        "    tr_b.append(b.item())\n",
        "\n",
        "\n",
        "### ?? zero_grad() 를 항상 backward() 전에 해야하는가\n",
        "  # zero_grad() :  method는 optimizer에 연결된 parameter들의 gradient를 0으로 만든다.\n",
        "  # \"Pytorch에서는 gradients값들을 추후에 backward를 해줄때 계속 더해주기 때문\"에,\n",
        "  # 우리는 항상 backpropagation을 하기전에 gradients를 zero로 만들어주고 시작을 해야한다.\n",
        "# optim.zero_grad() \n",
        "# loss.backward() \n",
        "# optim.step()\n"
      ]
    },
    {
      "cell_type": "code",
      "execution_count": null,
      "metadata": {
        "colab": {
          "base_uri": "https://localhost:8080/",
          "height": 564
        },
        "id": "wIVNIyNAaOqH",
        "outputId": "f14feebb-ef12-4cc0-e1f2-85c2cc7e77d6"
      },
      "outputs": [
        {
          "name": "stdout",
          "output_type": "stream",
          "text": [
            "w :  2.680617046647237\n",
            "b :  2.6482618335229353\n"
          ]
        },
        {
          "data": {
            "image/png": "[encoded data removed]",
            "text/plain": [
              "<Figure size 432x288 with 1 Axes>"
            ]
          },
          "metadata": {},
          "output_type": "display_data"
        },
        {
          "data": {
            "image/png": "[encoded data removed]",
            "text/plain": [
              "<Figure size 432x288 with 1 Axes>"
            ]
          },
          "metadata": {},
          "output_type": "display_data"
        }
      ],
      "source": [
        "# 최종 w,b \n",
        "print(\"w : \", w.item())\n",
        "print(\"b : \", b.item())\n",
        "\n",
        "plt.plot(tr_epoch, tr_loss)\n",
        "plt.xlabel('epoch')\n",
        "plt.ylabel('loss')\n",
        "plt.show()\n",
        "\n",
        "\n",
        "plt.scatter(x.detach().numpy(), y.detach().numpy(), s=1)\n",
        "plt.plot(x.detach().numpy(), yhat[-1].detach().numpy(), \"r\")\n",
        "plt.show()"
      ]
    },
    {
      "cell_type": "markdown",
      "metadata": {
        "id": "5_bseDK6yGb7"
      },
      "source": [
        "# 1. Regression - 같은 문제를 OLS로 풀기"
      ]
    },
    {
      "cell_type": "code",
      "execution_count": null,
      "metadata": {
        "colab": {
          "base_uri": "https://localhost:8080/"
        },
        "id": "hQUkPxE5YQMz",
        "outputId": "babc16c4-21ea-4bdc-8456-e01f10bba28a"
      },
      "outputs": [
        {
          "name": "stdout",
          "output_type": "stream",
          "text": [
            "Drive already mounted at /content/drive; to attempt to forcibly remount, call drive.mount(\"/content/drive\", force_remount=True).\n"
          ]
        }
      ],
      "source": [
        "import torch\n",
        "import pandas as pd\n",
        "import numpy as np\n",
        "import matplotlib.pyplot as plt\n",
        "\n",
        "from google.colab import drive\n",
        "\n",
        "# data = pd.read_csv(\"/content/regression.csv\")\n",
        "drive.mount('/content/drive')\n",
        "data = pd.read_csv(\"/content/drive/MyDrive/Colab Notebooks/regression.csv\")\n",
        "\n",
        "\n",
        "x = data['x']\n",
        "y = data['y']"
      ]
    },
    {
      "cell_type": "code",
      "execution_count": null,
      "metadata": {
        "colab": {
          "base_uri": "https://localhost:8080/"
        },
        "id": "lWwx9wvzp-8F",
        "outputId": "c8a17621-8ab2-45bf-bee3-dcab332dccea"
      },
      "outputs": [
        {
          "name": "stdout",
          "output_type": "stream",
          "text": [
            "w: 2.68, b: 2.69, loss: 2.980555\n"
          ]
        }
      ],
      "source": [
        "### OLS\n",
        "x_bar = x.mean()\n",
        "y_bar = y.mean()\n",
        "w = ((x - x_bar) * (y - y_bar)).sum() / ((x - x_bar)**2).sum()\n",
        "b = y_bar - w * x_bar\n",
        "\n",
        "yhat = ( x*w + b )\n",
        "loss = ((y - yhat)**2).mean()\n",
        "\n",
        "# 최종 w,b \n",
        "print('w: {:.2f}, b: {:.2f}, loss: {:.6f}'.format(w, b, loss))"
      ]
    },
    {
      "cell_type": "code",
      "execution_count": null,
      "metadata": {
        "colab": {
          "base_uri": "https://localhost:8080/"
        },
        "id": "ABqDOdcGYQUp",
        "outputId": "4e1ea7b6-9df4-4067-b206-e231aecada9e"
      },
      "outputs": [
        {
          "name": "stdout",
          "output_type": "stream",
          "text": [
            "w: 2.68, b: 2.69\n"
          ]
        }
      ],
      "source": [
        "### ref. scikit-learn\n",
        "x = data['x'].to_numpy()\n",
        "y = data['y'].to_numpy()\n",
        "\n",
        "from sklearn.linear_model import LinearRegression\n",
        "\n",
        "model = LinearRegression()\n",
        "model.fit(x.reshape(-1, 1), y)\n",
        "\n",
        "print('w: {:.2f}, b: {:.2f}'.format(model.coef_[0], model.intercept_))"
      ]
    },
    {
      "cell_type": "markdown",
      "metadata": {
        "id": "Zhr_q-pDX3ZV"
      },
      "source": [
        "# 2. MNIST 홀짝 Logistic Regression"
      ]
    },
    {
      "cell_type": "code",
      "execution_count": null,
      "metadata": {
        "id": "Q69ULIEGyN87"
      },
      "outputs": [],
      "source": [
        "import torch\n",
        "import torch.nn as nn\n",
        "import torch.nn.functional as F\n",
        "import torch.optim as optim\n",
        "import torchvision\n",
        "import torchvision.transforms as transfroms\n",
        "from torch.autograd import Variable"
      ]
    },
    {
      "cell_type": "code",
      "execution_count": null,
      "metadata": {
        "colab": {
          "base_uri": "https://localhost:8080/"
        },
        "id": "oU5WoDVlyOIv",
        "outputId": "181f0fe7-55f3-41eb-a7c1-4e78887b692d"
      },
      "outputs": [
        {
          "name": "stdout",
          "output_type": "stream",
          "text": [
            "torch.Size([1, 28, 28])\n",
            "torch.Size([100, 1, 28, 28])\n"
          ]
        }
      ],
      "source": [
        "batch_size = 100\n",
        "\n",
        "# MNIST 데이터셋 로드\n",
        "train_set = torchvision.datasets.MNIST(\n",
        "    root = './data/MNIST',\n",
        "    train = True,\n",
        "    download = True,\n",
        "    transform = transfroms.Compose([\n",
        "        transfroms.ToTensor() # 데이터를 0에서 255까지 있는 값을 0에서 1사이 값으로 변환\n",
        "    ])\n",
        ")\n",
        "test_set = torchvision.datasets.MNIST(\n",
        "    root = './data/MNIST',\n",
        "    train = False,\n",
        "    download = True,\n",
        "    transform = transfroms.Compose([\n",
        "        transfroms.ToTensor() # 데이터를 0에서 255까지 있는 값을 0에서 1사이 값으로 변환\n",
        "    ])\n",
        ")\n",
        " \n",
        "# train_loader, test_loader 생성\n",
        "train_loader = torch.utils.data.DataLoader(train_set, batch_size=batch_size)\n",
        "test_loader = torch.utils.data.DataLoader(test_set, batch_size=batch_size)\n",
        " \n",
        "\n",
        "# input size를 알기 위해서\n",
        "examples = enumerate(train_set)\n",
        "batch_idx, (example_data, example_targets) = next(examples)\n",
        "print(example_data.shape)\n",
        "\n",
        "examples = enumerate(test_loader)\n",
        "batch_idx, (example_data, example_targets) = next(examples)\n",
        "print(example_data.shape)"
      ]
    },
    {
      "cell_type": "code",
      "execution_count": null,
      "metadata": {
        "colab": {
          "base_uri": "https://localhost:8080/",
          "height": 180
        },
        "id": "0JHy9mAs5nvD",
        "outputId": "2ce41a48-39f9-4f9c-e787-56d096eb8d0e"
      },
      "outputs": [
        {
          "data": {
            "text/plain": [
              "<Figure size 432x288 with 0 Axes>"
            ]
          },
          "metadata": {},
          "output_type": "display_data"
        },
        {
          "data": {
            "image/png": "[encoded data removed]",
            "text/plain": [
              "<Figure size 432x288 with 3 Axes>"
            ]
          },
          "metadata": {},
          "output_type": "display_data"
        }
      ],
      "source": [
        "import matplotlib.pyplot as plt\n",
        "\n",
        "examples = enumerate(test_loader)\n",
        "batch_idx, (example_data, example_targets) = next(examples)\n",
        "\n",
        "fig = plt.figure()\n",
        "\n",
        "fig = plt.figure()\n",
        "for i in range(3):\n",
        "  plt.subplot(2,3,i+1)\n",
        "  plt.tight_layout()\n",
        "  plt.imshow(example_data[i][0], cmap='gray', interpolation='none')\n",
        "  plt.title(\"Ground Truth: {}\".format(example_targets[i]))\n",
        "  plt.xticks([])\n",
        "  plt.yticks([])\n"
      ]
    },
    {
      "cell_type": "code",
      "execution_count": null,
      "metadata": {
        "colab": {
          "base_uri": "https://localhost:8080/"
        },
        "id": "URRDSp9h23OY",
        "outputId": "7c56e06e-6328-4283-b398-cd58e2694cd8"
      },
      "outputs": [
        {
          "name": "stdout",
          "output_type": "stream",
          "text": [
            "torch.Size([1, 28, 28])\n",
            "5\n"
          ]
        }
      ],
      "source": [
        "x = train_set[0][0]\n",
        "y = train_set[0][1]\n",
        "print(x.shape)\n",
        "print(y)"
      ]
    },
    {
      "cell_type": "code",
      "execution_count": null,
      "metadata": {
        "colab": {
          "base_uri": "https://localhost:8080/"
        },
        "id": "85JsCyRvyOO1",
        "outputId": "f74cfc04-6479-4af1-a242-60b9e99dcc6b"
      },
      "outputs": [
        {
          "name": "stdout",
          "output_type": "stream",
          "text": [
            "Net(\n",
            "  (flatten): Flatten(start_dim=1, end_dim=-1)\n",
            "  (linear_relu_stack): Sequential(\n",
            "    (0): Linear(in_features=784, out_features=1, bias=True)\n",
            "    (1): Sigmoid()\n",
            "  )\n",
            ")\n"
          ]
        }
      ],
      "source": [
        "class Net(nn.Module):\n",
        "    def __init__(self):\n",
        "        super(Net, self).__init__()\n",
        "        self.flatten = nn.Flatten()\n",
        "        self.linear_relu_stack = nn.Sequential(\n",
        "            nn.Linear(28*28, 1),\n",
        "            nn.Sigmoid(),\n",
        "        )\n",
        "\n",
        "    def forward(self, x):\n",
        "        x = self.flatten(x)\n",
        "        x = self.linear_relu_stack(x)\n",
        "        return x\n",
        "\n",
        "model = Net()\n",
        "print(model)"
      ]
    },
    {
      "cell_type": "code",
      "execution_count": null,
      "metadata": {
        "colab": {
          "base_uri": "https://localhost:8080/"
        },
        "id": "a_QucvHv9lGG",
        "outputId": "7e582740-211b-4ffd-a568-0b4203bd60c5"
      },
      "outputs": [
        {
          "name": "stdout",
          "output_type": "stream",
          "text": [
            "Train Epoch: 0 [59900/60000 (100%)]\tLoss: 0.541839\tAcc: 0.830000\n",
            "Test set: Avg. loss: 0.0054, Accuracy: 4926/10000 (49%), (ACC:0.790000)\n",
            "\n",
            "Train Epoch: 1 [59900/60000 (100%)]\tLoss: 0.478288\tAcc: 0.830000\n",
            "Test set: Avg. loss: 0.0047, Accuracy: 4926/10000 (49%), (ACC:0.780000)\n",
            "\n",
            "Train Epoch: 2 [59900/60000 (100%)]\tLoss: 0.441052\tAcc: 0.830000\n",
            "Test set: Avg. loss: 0.0044, Accuracy: 4926/10000 (49%), (ACC:0.770000)\n",
            "\n",
            "Train Epoch: 3 [59900/60000 (100%)]\tLoss: 0.416520\tAcc: 0.840000\n",
            "Test set: Avg. loss: 0.0042, Accuracy: 4926/10000 (49%), (ACC:0.760000)\n",
            "\n",
            "Train Epoch: 4 [59900/60000 (100%)]\tLoss: 0.399056\tAcc: 0.840000\n",
            "Test set: Avg. loss: 0.0040, Accuracy: 4926/10000 (49%), (ACC:0.750000)\n",
            "\n",
            "Train Epoch: 5 [59900/60000 (100%)]\tLoss: 0.385937\tAcc: 0.840000\n",
            "Test set: Avg. loss: 0.0039, Accuracy: 4926/10000 (49%), (ACC:0.750000)\n",
            "\n",
            "Train Epoch: 6 [59900/60000 (100%)]\tLoss: 0.375684\tAcc: 0.840000\n",
            "Test set: Avg. loss: 0.0038, Accuracy: 4926/10000 (49%), (ACC:0.750000)\n",
            "\n",
            "Train Epoch: 7 [59900/60000 (100%)]\tLoss: 0.367426\tAcc: 0.840000\n",
            "Test set: Avg. loss: 0.0037, Accuracy: 4926/10000 (49%), (ACC:0.740000)\n",
            "\n",
            "Train Epoch: 8 [59900/60000 (100%)]\tLoss: 0.360613\tAcc: 0.840000\n",
            "Test set: Avg. loss: 0.0036, Accuracy: 4926/10000 (49%), (ACC:0.750000)\n",
            "\n",
            "Train Epoch: 9 [59900/60000 (100%)]\tLoss: 0.354882\tAcc: 0.840000\n",
            "Test set: Avg. loss: 0.0036, Accuracy: 4926/10000 (49%), (ACC:0.760000)\n",
            "\n",
            "Train Epoch: 10 [59900/60000 (100%)]\tLoss: 0.349982\tAcc: 0.850000\n",
            "Test set: Avg. loss: 0.0035, Accuracy: 4926/10000 (49%), (ACC:0.760000)\n",
            "\n",
            "Train Epoch: 11 [59900/60000 (100%)]\tLoss: 0.345735\tAcc: 0.850000\n",
            "Test set: Avg. loss: 0.0035, Accuracy: 4926/10000 (49%), (ACC:0.760000)\n",
            "\n",
            "Train Epoch: 12 [59900/60000 (100%)]\tLoss: 0.342010\tAcc: 0.850000\n",
            "Test set: Avg. loss: 0.0035, Accuracy: 4926/10000 (49%), (ACC:0.760000)\n",
            "\n",
            "Train Epoch: 13 [59900/60000 (100%)]\tLoss: 0.338709\tAcc: 0.860000\n",
            "Test set: Avg. loss: 0.0034, Accuracy: 4926/10000 (49%), (ACC:0.760000)\n",
            "\n",
            "Train Epoch: 14 [59900/60000 (100%)]\tLoss: 0.335757\tAcc: 0.860000\n",
            "Test set: Avg. loss: 0.0034, Accuracy: 4926/10000 (49%), (ACC:0.760000)\n",
            "\n",
            "Train Epoch: 15 [59900/60000 (100%)]\tLoss: 0.333096\tAcc: 0.860000\n",
            "Test set: Avg. loss: 0.0034, Accuracy: 4926/10000 (49%), (ACC:0.780000)\n",
            "\n",
            "Train Epoch: 16 [59900/60000 (100%)]\tLoss: 0.330680\tAcc: 0.860000\n",
            "Test set: Avg. loss: 0.0034, Accuracy: 4926/10000 (49%), (ACC:0.780000)\n",
            "\n",
            "Train Epoch: 17 [59900/60000 (100%)]\tLoss: 0.328473\tAcc: 0.860000\n",
            "Test set: Avg. loss: 0.0033, Accuracy: 4926/10000 (49%), (ACC:0.780000)\n",
            "\n",
            "Train Epoch: 18 [59900/60000 (100%)]\tLoss: 0.326443\tAcc: 0.870000\n",
            "Test set: Avg. loss: 0.0033, Accuracy: 4926/10000 (49%), (ACC:0.780000)\n",
            "\n",
            "Train Epoch: 19 [59900/60000 (100%)]\tLoss: 0.324568\tAcc: 0.870000\n",
            "Test set: Avg. loss: 0.0033, Accuracy: 4926/10000 (49%), (ACC:0.780000)\n",
            "\n",
            "Train Epoch: 20 [59900/60000 (100%)]\tLoss: 0.322827\tAcc: 0.870000\n",
            "Test set: Avg. loss: 0.0033, Accuracy: 4926/10000 (49%), (ACC:0.780000)\n",
            "\n",
            "Train Epoch: 21 [59900/60000 (100%)]\tLoss: 0.321204\tAcc: 0.880000\n",
            "Test set: Avg. loss: 0.0033, Accuracy: 4926/10000 (49%), (ACC:0.780000)\n",
            "\n",
            "Train Epoch: 22 [59900/60000 (100%)]\tLoss: 0.319684\tAcc: 0.880000\n",
            "Test set: Avg. loss: 0.0032, Accuracy: 4926/10000 (49%), (ACC:0.780000)\n",
            "\n",
            "Train Epoch: 23 [59900/60000 (100%)]\tLoss: 0.318255\tAcc: 0.880000\n",
            "Test set: Avg. loss: 0.0032, Accuracy: 4926/10000 (49%), (ACC:0.790000)\n",
            "\n",
            "Train Epoch: 24 [59900/60000 (100%)]\tLoss: 0.316907\tAcc: 0.880000\n",
            "Test set: Avg. loss: 0.0032, Accuracy: 4926/10000 (49%), (ACC:0.790000)\n",
            "\n",
            "Train Epoch: 25 [59900/60000 (100%)]\tLoss: 0.315632\tAcc: 0.880000\n",
            "Test set: Avg. loss: 0.0032, Accuracy: 4926/10000 (49%), (ACC:0.800000)\n",
            "\n",
            "Train Epoch: 26 [59900/60000 (100%)]\tLoss: 0.314423\tAcc: 0.880000\n",
            "Test set: Avg. loss: 0.0032, Accuracy: 4926/10000 (49%), (ACC:0.800000)\n",
            "\n",
            "Train Epoch: 27 [59900/60000 (100%)]\tLoss: 0.313271\tAcc: 0.880000\n",
            "Test set: Avg. loss: 0.0032, Accuracy: 4926/10000 (49%), (ACC:0.800000)\n",
            "\n",
            "Train Epoch: 28 [59900/60000 (100%)]\tLoss: 0.312173\tAcc: 0.880000\n",
            "Test set: Avg. loss: 0.0032, Accuracy: 4926/10000 (49%), (ACC:0.800000)\n",
            "\n",
            "Train Epoch: 29 [59900/60000 (100%)]\tLoss: 0.311124\tAcc: 0.880000\n",
            "Test set: Avg. loss: 0.0032, Accuracy: 4926/10000 (49%), (ACC:0.790000)\n",
            "\n",
            "Train Epoch: 30 [59900/60000 (100%)]\tLoss: 0.310118\tAcc: 0.880000\n",
            "Test set: Avg. loss: 0.0032, Accuracy: 4926/10000 (49%), (ACC:0.790000)\n",
            "\n",
            "Train Epoch: 31 [59900/60000 (100%)]\tLoss: 0.309152\tAcc: 0.880000\n",
            "Test set: Avg. loss: 0.0032, Accuracy: 4926/10000 (49%), (ACC:0.790000)\n",
            "\n",
            "Train Epoch: 32 [59900/60000 (100%)]\tLoss: 0.308223\tAcc: 0.880000\n",
            "Test set: Avg. loss: 0.0031, Accuracy: 4926/10000 (49%), (ACC:0.790000)\n",
            "\n",
            "Train Epoch: 33 [59900/60000 (100%)]\tLoss: 0.307328\tAcc: 0.880000\n",
            "Test set: Avg. loss: 0.0031, Accuracy: 4926/10000 (49%), (ACC:0.790000)\n",
            "\n",
            "Train Epoch: 34 [59900/60000 (100%)]\tLoss: 0.306464\tAcc: 0.880000\n",
            "Test set: Avg. loss: 0.0031, Accuracy: 4926/10000 (49%), (ACC:0.790000)\n",
            "\n",
            "Train Epoch: 35 [59900/60000 (100%)]\tLoss: 0.305629\tAcc: 0.880000\n",
            "Test set: Avg. loss: 0.0031, Accuracy: 4926/10000 (49%), (ACC:0.790000)\n",
            "\n",
            "Train Epoch: 36 [59900/60000 (100%)]\tLoss: 0.304820\tAcc: 0.880000\n",
            "Test set: Avg. loss: 0.0031, Accuracy: 4926/10000 (49%), (ACC:0.790000)\n",
            "\n",
            "Train Epoch: 37 [59900/60000 (100%)]\tLoss: 0.304037\tAcc: 0.880000\n",
            "Test set: Avg. loss: 0.0031, Accuracy: 4926/10000 (49%), (ACC:0.790000)\n",
            "\n",
            "Train Epoch: 38 [59900/60000 (100%)]\tLoss: 0.303276\tAcc: 0.880000\n",
            "Test set: Avg. loss: 0.0031, Accuracy: 4926/10000 (49%), (ACC:0.790000)\n",
            "\n",
            "Train Epoch: 39 [59900/60000 (100%)]\tLoss: 0.302538\tAcc: 0.880000\n",
            "Test set: Avg. loss: 0.0031, Accuracy: 4926/10000 (49%), (ACC:0.790000)\n",
            "\n",
            "Train Epoch: 40 [59900/60000 (100%)]\tLoss: 0.301819\tAcc: 0.880000\n",
            "Test set: Avg. loss: 0.0031, Accuracy: 4926/10000 (49%), (ACC:0.790000)\n",
            "\n",
            "Train Epoch: 41 [59900/60000 (100%)]\tLoss: 0.301119\tAcc: 0.880000\n",
            "Test set: Avg. loss: 0.0031, Accuracy: 4926/10000 (49%), (ACC:0.790000)\n",
            "\n",
            "Train Epoch: 42 [59900/60000 (100%)]\tLoss: 0.300438\tAcc: 0.880000\n",
            "Test set: Avg. loss: 0.0031, Accuracy: 4926/10000 (49%), (ACC:0.790000)\n",
            "\n",
            "Train Epoch: 43 [59900/60000 (100%)]\tLoss: 0.299773\tAcc: 0.880000\n",
            "Test set: Avg. loss: 0.0031, Accuracy: 4926/10000 (49%), (ACC:0.790000)\n",
            "\n",
            "Train Epoch: 44 [59900/60000 (100%)]\tLoss: 0.299124\tAcc: 0.880000\n",
            "Test set: Avg. loss: 0.0031, Accuracy: 4926/10000 (49%), (ACC:0.780000)\n",
            "\n",
            "Train Epoch: 45 [59900/60000 (100%)]\tLoss: 0.298490\tAcc: 0.880000\n",
            "Test set: Avg. loss: 0.0031, Accuracy: 4926/10000 (49%), (ACC:0.780000)\n",
            "\n",
            "Train Epoch: 46 [59900/60000 (100%)]\tLoss: 0.297870\tAcc: 0.880000\n",
            "Test set: Avg. loss: 0.0030, Accuracy: 4926/10000 (49%), (ACC:0.780000)\n",
            "\n",
            "Train Epoch: 47 [59900/60000 (100%)]\tLoss: 0.297264\tAcc: 0.880000\n",
            "Test set: Avg. loss: 0.0030, Accuracy: 4926/10000 (49%), (ACC:0.780000)\n",
            "\n",
            "Train Epoch: 48 [59900/60000 (100%)]\tLoss: 0.296670\tAcc: 0.880000\n",
            "Test set: Avg. loss: 0.0030, Accuracy: 4926/10000 (49%), (ACC:0.780000)\n",
            "\n",
            "Train Epoch: 49 [59900/60000 (100%)]\tLoss: 0.296089\tAcc: 0.880000\n",
            "Test set: Avg. loss: 0.0030, Accuracy: 4926/10000 (49%), (ACC:0.780000)\n",
            "\n"
          ]
        }
      ],
      "source": [
        "learning_rate = 0.001\n",
        "epochs = 50\n",
        "\n",
        "log_interval = 100\n",
        "\n",
        "loss_fn = nn.BCELoss()\n",
        "optimizer = optim.SGD(model.parameters(), lr=learning_rate)\n",
        "\n",
        "train_losses = []\n",
        "test_losses = []\n",
        "\n",
        "train_acc = 0\n",
        "for epoch in range(epochs) :\n",
        "  for batch_idx, (data, y) in enumerate(train_loader):\n",
        "    data = Variable(data.view(-1,28 * 28))\n",
        "    y = Variable(y.view(-1))\n",
        "    y = (y%2).float()\n",
        "    \n",
        "    optimizer.zero_grad()\n",
        "    y_pred = model(data)\n",
        "    loss = loss_fn(y_pred.view_as(y), y)\n",
        "    loss.backward()\n",
        "    optimizer.step()\n",
        "\n",
        "    # if batch_idx % (log_interval*50) == 0  : #  epoch % log_interval == 0 & \n",
        "    #   y_lb = (y_pred.data>0.5)*1\n",
        "    #   train_acc = y_lb.eq(y.view_as(y_lb)).sum() / len(y_lb)\n",
        "  \n",
        "    #   print('Train Epoch: {} [{}/{} ({:.0f}%)]\\tLoss: {:.6f}\\tAcc: {:.6f}'.format( epoch, batch_idx * len(data), len(train_loader.dataset), 100. * batch_idx / len(train_loader), loss.item(), train_acc )) \n",
        "    #   train_losses.append(loss.item())\n",
        "  \n",
        "  y_lb = (y_pred.data>0.5)*1\n",
        "  train_acc = y_lb.eq(y.view_as(y_lb)).sum() / len(y_lb)\n",
        "  print('Train Epoch: {} [{}/{} ({:.0f}%)]\\tLoss: {:.6f}\\tAcc: {:.6f}'.format( epoch, batch_idx * len(data), len(train_loader.dataset), 100. * batch_idx / len(train_loader), loss.item(), train_acc )) \n",
        "  train_losses.append(loss.item())\n",
        "\n",
        "  test_loss = 0\n",
        "  correct = 0\n",
        "  train_acc = 0\n",
        "  with torch.no_grad():\n",
        "    for data, target in test_loader:\n",
        "      data = Variable(data.view(-1,28 * 28))\n",
        "      target = Variable(target.view(-1))\n",
        "      target = (target%2).float()\n",
        "      \n",
        "      y_pred = model(data)\n",
        "      y_lb = (y_pred.data>0.5)*1\n",
        "\n",
        "      test_loss += loss_fn(y_pred.view_as(target), target)\n",
        "      pred = y_pred.data.max(1, keepdim=True)[1]\n",
        "      \n",
        "      train_acc = y_lb.eq(target.view_as(y_lb)).sum() / len(y_lb)\n",
        "      correct += pred.eq(target.data.view_as(pred)).sum()\n",
        "  test_loss /= len(test_loader.dataset)\n",
        "  test_losses.append(test_loss)\n",
        "  print('Test set: Avg. loss: {:.4f}, Accuracy: {}/{} ({:.0f}%), (ACC:{:.6f})\\n'.format(test_loss, correct, len(test_loader.dataset), 100. * correct / len(test_loader.dataset), train_acc))\n",
        "\n",
        "\n",
        "  # test_loss = 0\n",
        "  # correct = 0\n",
        "  # with torch.no_grad():\n",
        "  #   for data, target in test_loader:\n",
        "  #     data = Variable(data.view(-1,28 * 28))\n",
        "  #     target = Variable(target.view(-1))\n",
        "  #     target = (target%2).float()\n",
        "      \n",
        "  #     y_pred = model(data)\n",
        "  #     test_loss += loss_fn(y_pred.view_as(target), target)\n",
        "  #     pred = y_pred.data.max(1, keepdim=True)[1]\n",
        "  #     correct += pred.eq(target.data.view_as(pred)).sum()\n",
        "  # test_loss /= len(test_loader.dataset)\n",
        "  # test_losses.append(test_loss)\n",
        "  # print('\\nTest set: Avg. loss: {:.4f}, Accuracy: {}/{} ({:.0f}%)\\n'.format(test_loss, correct, len(test_loader.dataset), 100. * correct / len(test_loader.dataset)))\n",
        "  "
      ]
    },
    {
      "cell_type": "code",
      "execution_count": null,
      "metadata": {
        "id": "s8TT7l2L11uI"
      },
      "outputs": [],
      "source": []
    },
    {
      "cell_type": "markdown",
      "metadata": {
        "id": "q_Is9ZZxM5JO"
      },
      "source": []
    },
    {
      "cell_type": "code",
      "execution_count": null,
      "metadata": {
        "colab": {
          "base_uri": "https://localhost:8080/"
        },
        "id": "h3rXIgXpNEsv",
        "outputId": "d88a33d8-dba5-4463-f1ee-0db66dc494f2"
      },
      "outputs": [
        {
          "name": "stdout",
          "output_type": "stream",
          "text": [
            "\n",
            "Test set: Avg. loss: 0.0027, Accuracy: 4926/10000 (49%), (ACC:0.8299999833106995)\n",
            "\n"
          ]
        }
      ],
      "source": [
        "test_loss = 0\n",
        "correct = 0\n",
        "train_acc = 0\n",
        "with torch.no_grad():\n",
        "  for data, target in test_loader:\n",
        "    data = Variable(data.view(-1,28 * 28))\n",
        "    target = Variable(target.view(-1))\n",
        "    target = (target%2).float()\n",
        "    \n",
        "    y_pred = model(data)\n",
        "    y_lb = (y_pred.data>0.5)*1\n",
        "\n",
        "    test_loss += loss_fn(y_pred.view_as(target), target)\n",
        "    pred = y_pred.data.max(1, keepdim=True)[1]\n",
        "    \n",
        "    train_acc = y_lb.eq(target.view_as(y_lb)).sum() / len(y_lb)\n",
        "    correct += pred.eq(target.data.view_as(pred)).sum()\n",
        "test_loss /= len(test_loader.dataset)\n",
        "test_losses.append(test_loss)\n",
        "print('\\nTest set: Avg. loss: {:.4f}, Accuracy: {}/{} ({:.0f}%), (ACC:{})\\n'.format(test_loss, correct, len(test_loader.dataset), 100. * correct / len(test_loader.dataset), train_acc))\n"
      ]
    },
    {
      "cell_type": "code",
      "execution_count": null,
      "metadata": {
        "colab": {
          "base_uri": "https://localhost:8080/",
          "height": 283
        },
        "id": "oBEg8Lwd92Gn",
        "outputId": "42947b66-7f26-42fd-fb01-ed2c36ea6546"
      },
      "outputs": [
        {
          "data": {
            "text/plain": [
              "<matplotlib.image.AxesImage at 0x7f8533dea690>"
            ]
          },
          "execution_count": 26,
          "metadata": {},
          "output_type": "execute_result"
        },
        {
          "data": {
            "image/png": "[encoded data removed]",
            "text/plain": [
              "<Figure size 432x288 with 1 Axes>"
            ]
          },
          "metadata": {},
          "output_type": "display_data"
        }
      ],
      "source": [
        "fig = plt.figure()\n",
        "plt.imshow(list(model.parameters())[0].reshape(28,28).detach().numpy(), cmap='gray')"
      ]
    },
    {
      "cell_type": "code",
      "execution_count": null,
      "metadata": {
        "id": "yD96j3ZC2MFe"
      },
      "outputs": [],
      "source": []
    },
    {
      "cell_type": "code",
      "execution_count": null,
      "metadata": {
        "colab": {
          "base_uri": "https://localhost:8080/"
        },
        "id": "ZyZptxKN2MLr",
        "outputId": "d42f09a2-d453-4dcf-d920-d0d21beeb667"
      },
      "outputs": [
        {
          "name": "stdout",
          "output_type": "stream",
          "text": [
            "Train Epoch: 0 [59900/60000 (100%)]\tLoss: 0.564943\tAcc: 0.800000\n",
            "Test set: Avg. loss: 0.0055, Accuracy: 4926/10000 (49%), (ACC:0.750000)\n",
            "\n",
            "Train Epoch: 1 [59900/60000 (100%)]\tLoss: 0.494919\tAcc: 0.820000\n",
            "Test set: Avg. loss: 0.0048, Accuracy: 4926/10000 (49%), (ACC:0.760000)\n",
            "\n",
            "Train Epoch: 2 [59900/60000 (100%)]\tLoss: 0.454439\tAcc: 0.830000\n",
            "Test set: Avg. loss: 0.0044, Accuracy: 4926/10000 (49%), (ACC:0.750000)\n",
            "\n",
            "Train Epoch: 3 [59900/60000 (100%)]\tLoss: 0.427970\tAcc: 0.840000\n",
            "Test set: Avg. loss: 0.0042, Accuracy: 4926/10000 (49%), (ACC:0.760000)\n",
            "\n",
            "Train Epoch: 4 [59900/60000 (100%)]\tLoss: 0.409195\tAcc: 0.840000\n",
            "Test set: Avg. loss: 0.0040, Accuracy: 4926/10000 (49%), (ACC:0.740000)\n",
            "\n",
            "Train Epoch: 5 [59900/60000 (100%)]\tLoss: 0.395109\tAcc: 0.840000\n",
            "Test set: Avg. loss: 0.0039, Accuracy: 4926/10000 (49%), (ACC:0.740000)\n",
            "\n",
            "Train Epoch: 6 [59900/60000 (100%)]\tLoss: 0.384098\tAcc: 0.840000\n",
            "Test set: Avg. loss: 0.0038, Accuracy: 4926/10000 (49%), (ACC:0.740000)\n",
            "\n",
            "Train Epoch: 7 [59900/60000 (100%)]\tLoss: 0.375220\tAcc: 0.840000\n",
            "Test set: Avg. loss: 0.0037, Accuracy: 4926/10000 (49%), (ACC:0.740000)\n",
            "\n",
            "Train Epoch: 8 [59900/60000 (100%)]\tLoss: 0.367885\tAcc: 0.850000\n",
            "Test set: Avg. loss: 0.0037, Accuracy: 4926/10000 (49%), (ACC:0.740000)\n",
            "\n",
            "Train Epoch: 9 [59900/60000 (100%)]\tLoss: 0.361703\tAcc: 0.850000\n",
            "Test set: Avg. loss: 0.0036, Accuracy: 4926/10000 (49%), (ACC:0.740000)\n",
            "\n",
            "Train Epoch: 10 [59900/60000 (100%)]\tLoss: 0.356408\tAcc: 0.850000\n",
            "Test set: Avg. loss: 0.0036, Accuracy: 4926/10000 (49%), (ACC:0.750000)\n",
            "\n",
            "Train Epoch: 11 [59900/60000 (100%)]\tLoss: 0.351809\tAcc: 0.850000\n",
            "Test set: Avg. loss: 0.0035, Accuracy: 4926/10000 (49%), (ACC:0.750000)\n",
            "\n",
            "Train Epoch: 12 [59900/60000 (100%)]\tLoss: 0.347768\tAcc: 0.850000\n",
            "Test set: Avg. loss: 0.0035, Accuracy: 4926/10000 (49%), (ACC:0.760000)\n",
            "\n",
            "Train Epoch: 13 [59900/60000 (100%)]\tLoss: 0.344179\tAcc: 0.850000\n",
            "Test set: Avg. loss: 0.0034, Accuracy: 4926/10000 (49%), (ACC:0.760000)\n",
            "\n",
            "Train Epoch: 14 [59900/60000 (100%)]\tLoss: 0.340964\tAcc: 0.850000\n",
            "Test set: Avg. loss: 0.0034, Accuracy: 4926/10000 (49%), (ACC:0.760000)\n",
            "\n",
            "Train Epoch: 15 [59900/60000 (100%)]\tLoss: 0.338062\tAcc: 0.850000\n",
            "Test set: Avg. loss: 0.0034, Accuracy: 4926/10000 (49%), (ACC:0.760000)\n",
            "\n",
            "Train Epoch: 16 [59900/60000 (100%)]\tLoss: 0.335423\tAcc: 0.850000\n",
            "Test set: Avg. loss: 0.0034, Accuracy: 4926/10000 (49%), (ACC:0.760000)\n",
            "\n",
            "Train Epoch: 17 [59900/60000 (100%)]\tLoss: 0.333008\tAcc: 0.860000\n",
            "Test set: Avg. loss: 0.0033, Accuracy: 4926/10000 (49%), (ACC:0.760000)\n",
            "\n",
            "Train Epoch: 18 [59900/60000 (100%)]\tLoss: 0.330785\tAcc: 0.860000\n",
            "Test set: Avg. loss: 0.0033, Accuracy: 4926/10000 (49%), (ACC:0.760000)\n",
            "\n",
            "Train Epoch: 19 [59900/60000 (100%)]\tLoss: 0.328730\tAcc: 0.860000\n",
            "Test set: Avg. loss: 0.0033, Accuracy: 4926/10000 (49%), (ACC:0.760000)\n",
            "\n",
            "Train Epoch: 20 [59900/60000 (100%)]\tLoss: 0.326820\tAcc: 0.870000\n",
            "Test set: Avg. loss: 0.0033, Accuracy: 4926/10000 (49%), (ACC:0.770000)\n",
            "\n",
            "Train Epoch: 21 [59900/60000 (100%)]\tLoss: 0.325038\tAcc: 0.870000\n",
            "Test set: Avg. loss: 0.0033, Accuracy: 4926/10000 (49%), (ACC:0.770000)\n",
            "\n",
            "Train Epoch: 22 [59900/60000 (100%)]\tLoss: 0.323368\tAcc: 0.870000\n",
            "Test set: Avg. loss: 0.0033, Accuracy: 4926/10000 (49%), (ACC:0.780000)\n",
            "\n",
            "Train Epoch: 23 [59900/60000 (100%)]\tLoss: 0.321798\tAcc: 0.880000\n",
            "Test set: Avg. loss: 0.0032, Accuracy: 4926/10000 (49%), (ACC:0.780000)\n",
            "\n",
            "Train Epoch: 24 [59900/60000 (100%)]\tLoss: 0.320317\tAcc: 0.880000\n",
            "Test set: Avg. loss: 0.0032, Accuracy: 4926/10000 (49%), (ACC:0.780000)\n",
            "\n",
            "Train Epoch: 25 [59900/60000 (100%)]\tLoss: 0.318916\tAcc: 0.880000\n",
            "Test set: Avg. loss: 0.0032, Accuracy: 4926/10000 (49%), (ACC:0.780000)\n",
            "\n",
            "Train Epoch: 26 [59900/60000 (100%)]\tLoss: 0.317587\tAcc: 0.880000\n",
            "Test set: Avg. loss: 0.0032, Accuracy: 4926/10000 (49%), (ACC:0.790000)\n",
            "\n",
            "Train Epoch: 27 [59900/60000 (100%)]\tLoss: 0.316323\tAcc: 0.880000\n",
            "Test set: Avg. loss: 0.0032, Accuracy: 4926/10000 (49%), (ACC:0.790000)\n",
            "\n",
            "Train Epoch: 28 [59900/60000 (100%)]\tLoss: 0.315117\tAcc: 0.880000\n",
            "Test set: Avg. loss: 0.0032, Accuracy: 4926/10000 (49%), (ACC:0.790000)\n",
            "\n",
            "Train Epoch: 29 [59900/60000 (100%)]\tLoss: 0.313965\tAcc: 0.880000\n",
            "Test set: Avg. loss: 0.0032, Accuracy: 4926/10000 (49%), (ACC:0.790000)\n",
            "\n",
            "Train Epoch: 30 [59900/60000 (100%)]\tLoss: 0.312862\tAcc: 0.880000\n",
            "Test set: Avg. loss: 0.0032, Accuracy: 4926/10000 (49%), (ACC:0.790000)\n",
            "\n",
            "Train Epoch: 31 [59900/60000 (100%)]\tLoss: 0.311803\tAcc: 0.880000\n",
            "Test set: Avg. loss: 0.0032, Accuracy: 4926/10000 (49%), (ACC:0.790000)\n",
            "\n",
            "Train Epoch: 32 [59900/60000 (100%)]\tLoss: 0.310786\tAcc: 0.880000\n",
            "Test set: Avg. loss: 0.0031, Accuracy: 4926/10000 (49%), (ACC:0.790000)\n",
            "\n",
            "Train Epoch: 33 [59900/60000 (100%)]\tLoss: 0.309806\tAcc: 0.880000\n",
            "Test set: Avg. loss: 0.0031, Accuracy: 4926/10000 (49%), (ACC:0.790000)\n",
            "\n",
            "Train Epoch: 34 [59900/60000 (100%)]\tLoss: 0.308861\tAcc: 0.880000\n",
            "Test set: Avg. loss: 0.0031, Accuracy: 4926/10000 (49%), (ACC:0.790000)\n",
            "\n",
            "Train Epoch: 35 [59900/60000 (100%)]\tLoss: 0.307949\tAcc: 0.880000\n",
            "Test set: Avg. loss: 0.0031, Accuracy: 4926/10000 (49%), (ACC:0.790000)\n",
            "\n",
            "Train Epoch: 36 [59900/60000 (100%)]\tLoss: 0.307067\tAcc: 0.880000\n",
            "Test set: Avg. loss: 0.0031, Accuracy: 4926/10000 (49%), (ACC:0.790000)\n",
            "\n",
            "Train Epoch: 37 [59900/60000 (100%)]\tLoss: 0.306213\tAcc: 0.880000\n",
            "Test set: Avg. loss: 0.0031, Accuracy: 4926/10000 (49%), (ACC:0.790000)\n",
            "\n",
            "Train Epoch: 38 [59900/60000 (100%)]\tLoss: 0.305385\tAcc: 0.880000\n",
            "Test set: Avg. loss: 0.0031, Accuracy: 4926/10000 (49%), (ACC:0.790000)\n",
            "\n",
            "Train Epoch: 39 [59900/60000 (100%)]\tLoss: 0.304581\tAcc: 0.880000\n",
            "Test set: Avg. loss: 0.0031, Accuracy: 4926/10000 (49%), (ACC:0.780000)\n",
            "\n",
            "Train Epoch: 40 [59900/60000 (100%)]\tLoss: 0.303801\tAcc: 0.880000\n",
            "Test set: Avg. loss: 0.0031, Accuracy: 4926/10000 (49%), (ACC:0.780000)\n",
            "\n",
            "Train Epoch: 41 [59900/60000 (100%)]\tLoss: 0.303041\tAcc: 0.880000\n",
            "Test set: Avg. loss: 0.0031, Accuracy: 4926/10000 (49%), (ACC:0.780000)\n",
            "\n",
            "Train Epoch: 42 [59900/60000 (100%)]\tLoss: 0.302303\tAcc: 0.880000\n",
            "Test set: Avg. loss: 0.0031, Accuracy: 4926/10000 (49%), (ACC:0.780000)\n",
            "\n",
            "Train Epoch: 43 [59900/60000 (100%)]\tLoss: 0.301583\tAcc: 0.880000\n",
            "Test set: Avg. loss: 0.0031, Accuracy: 4926/10000 (49%), (ACC:0.780000)\n",
            "\n",
            "Train Epoch: 44 [59900/60000 (100%)]\tLoss: 0.300881\tAcc: 0.880000\n",
            "Test set: Avg. loss: 0.0031, Accuracy: 4926/10000 (49%), (ACC:0.780000)\n",
            "\n",
            "Train Epoch: 45 [59900/60000 (100%)]\tLoss: 0.300197\tAcc: 0.880000\n",
            "Test set: Avg. loss: 0.0031, Accuracy: 4926/10000 (49%), (ACC:0.780000)\n",
            "\n",
            "Train Epoch: 46 [59900/60000 (100%)]\tLoss: 0.299528\tAcc: 0.880000\n",
            "Test set: Avg. loss: 0.0031, Accuracy: 4926/10000 (49%), (ACC:0.780000)\n",
            "\n",
            "Train Epoch: 47 [59900/60000 (100%)]\tLoss: 0.298875\tAcc: 0.880000\n",
            "Test set: Avg. loss: 0.0030, Accuracy: 4926/10000 (49%), (ACC:0.780000)\n",
            "\n",
            "Train Epoch: 48 [59900/60000 (100%)]\tLoss: 0.298237\tAcc: 0.890000\n",
            "Test set: Avg. loss: 0.0030, Accuracy: 4926/10000 (49%), (ACC:0.780000)\n",
            "\n",
            "Train Epoch: 49 [59900/60000 (100%)]\tLoss: 0.297612\tAcc: 0.890000\n",
            "Test set: Avg. loss: 0.0030, Accuracy: 4926/10000 (49%), (ACC:0.780000)\n",
            "\n",
            "Train Epoch: 50 [59900/60000 (100%)]\tLoss: 0.297001\tAcc: 0.890000\n",
            "Test set: Avg. loss: 0.0030, Accuracy: 4926/10000 (49%), (ACC:0.780000)\n",
            "\n",
            "Train Epoch: 51 [59900/60000 (100%)]\tLoss: 0.296402\tAcc: 0.890000\n",
            "Test set: Avg. loss: 0.0030, Accuracy: 4926/10000 (49%), (ACC:0.780000)\n",
            "\n",
            "Train Epoch: 52 [59900/60000 (100%)]\tLoss: 0.295816\tAcc: 0.890000\n",
            "Test set: Avg. loss: 0.0030, Accuracy: 4926/10000 (49%), (ACC:0.780000)\n",
            "\n",
            "Train Epoch: 53 [59900/60000 (100%)]\tLoss: 0.295241\tAcc: 0.890000\n",
            "Test set: Avg. loss: 0.0030, Accuracy: 4926/10000 (49%), (ACC:0.780000)\n",
            "\n",
            "Train Epoch: 54 [59900/60000 (100%)]\tLoss: 0.294677\tAcc: 0.890000\n",
            "Test set: Avg. loss: 0.0030, Accuracy: 4926/10000 (49%), (ACC:0.780000)\n",
            "\n",
            "Train Epoch: 55 [59900/60000 (100%)]\tLoss: 0.294124\tAcc: 0.890000\n",
            "Test set: Avg. loss: 0.0030, Accuracy: 4926/10000 (49%), (ACC:0.780000)\n",
            "\n",
            "Train Epoch: 56 [59900/60000 (100%)]\tLoss: 0.293581\tAcc: 0.890000\n",
            "Test set: Avg. loss: 0.0030, Accuracy: 4926/10000 (49%), (ACC:0.790000)\n",
            "\n",
            "Train Epoch: 57 [59900/60000 (100%)]\tLoss: 0.293049\tAcc: 0.890000\n",
            "Test set: Avg. loss: 0.0030, Accuracy: 4926/10000 (49%), (ACC:0.790000)\n",
            "\n",
            "Train Epoch: 58 [59900/60000 (100%)]\tLoss: 0.292525\tAcc: 0.890000\n",
            "Test set: Avg. loss: 0.0030, Accuracy: 4926/10000 (49%), (ACC:0.790000)\n",
            "\n",
            "Train Epoch: 59 [59900/60000 (100%)]\tLoss: 0.292011\tAcc: 0.890000\n",
            "Test set: Avg. loss: 0.0030, Accuracy: 4926/10000 (49%), (ACC:0.800000)\n",
            "\n",
            "Train Epoch: 60 [59900/60000 (100%)]\tLoss: 0.291506\tAcc: 0.900000\n",
            "Test set: Avg. loss: 0.0030, Accuracy: 4926/10000 (49%), (ACC:0.800000)\n",
            "\n",
            "Train Epoch: 61 [59900/60000 (100%)]\tLoss: 0.291009\tAcc: 0.900000\n",
            "Test set: Avg. loss: 0.0030, Accuracy: 4926/10000 (49%), (ACC:0.800000)\n",
            "\n",
            "Train Epoch: 62 [59900/60000 (100%)]\tLoss: 0.290520\tAcc: 0.910000\n",
            "Test set: Avg. loss: 0.0030, Accuracy: 4926/10000 (49%), (ACC:0.800000)\n",
            "\n",
            "Train Epoch: 63 [59900/60000 (100%)]\tLoss: 0.290040\tAcc: 0.910000\n",
            "Test set: Avg. loss: 0.0030, Accuracy: 4926/10000 (49%), (ACC:0.800000)\n",
            "\n",
            "Train Epoch: 64 [59900/60000 (100%)]\tLoss: 0.289567\tAcc: 0.910000\n",
            "Test set: Avg. loss: 0.0030, Accuracy: 4926/10000 (49%), (ACC:0.800000)\n",
            "\n",
            "Train Epoch: 65 [59900/60000 (100%)]\tLoss: 0.289102\tAcc: 0.910000\n",
            "Test set: Avg. loss: 0.0030, Accuracy: 4926/10000 (49%), (ACC:0.800000)\n",
            "\n",
            "Train Epoch: 66 [59900/60000 (100%)]\tLoss: 0.288644\tAcc: 0.910000\n",
            "Test set: Avg. loss: 0.0030, Accuracy: 4926/10000 (49%), (ACC:0.800000)\n",
            "\n",
            "Train Epoch: 67 [59900/60000 (100%)]\tLoss: 0.288193\tAcc: 0.910000\n",
            "Test set: Avg. loss: 0.0030, Accuracy: 4926/10000 (49%), (ACC:0.800000)\n",
            "\n",
            "Train Epoch: 68 [59900/60000 (100%)]\tLoss: 0.287748\tAcc: 0.910000\n",
            "Test set: Avg. loss: 0.0030, Accuracy: 4926/10000 (49%), (ACC:0.810000)\n",
            "\n",
            "Train Epoch: 69 [59900/60000 (100%)]\tLoss: 0.287311\tAcc: 0.910000\n",
            "Test set: Avg. loss: 0.0030, Accuracy: 4926/10000 (49%), (ACC:0.810000)\n",
            "\n",
            "Train Epoch: 70 [59900/60000 (100%)]\tLoss: 0.286880\tAcc: 0.910000\n",
            "Test set: Avg. loss: 0.0030, Accuracy: 4926/10000 (49%), (ACC:0.810000)\n",
            "\n",
            "Train Epoch: 71 [59900/60000 (100%)]\tLoss: 0.286455\tAcc: 0.910000\n",
            "Test set: Avg. loss: 0.0030, Accuracy: 4926/10000 (49%), (ACC:0.810000)\n",
            "\n",
            "Train Epoch: 72 [59900/60000 (100%)]\tLoss: 0.286037\tAcc: 0.910000\n",
            "Test set: Avg. loss: 0.0030, Accuracy: 4926/10000 (49%), (ACC:0.810000)\n",
            "\n",
            "Train Epoch: 73 [59900/60000 (100%)]\tLoss: 0.285624\tAcc: 0.910000\n",
            "Test set: Avg. loss: 0.0029, Accuracy: 4926/10000 (49%), (ACC:0.810000)\n",
            "\n",
            "Train Epoch: 74 [59900/60000 (100%)]\tLoss: 0.285217\tAcc: 0.910000\n",
            "Test set: Avg. loss: 0.0029, Accuracy: 4926/10000 (49%), (ACC:0.820000)\n",
            "\n",
            "Train Epoch: 75 [59900/60000 (100%)]\tLoss: 0.284816\tAcc: 0.910000\n",
            "Test set: Avg. loss: 0.0029, Accuracy: 4926/10000 (49%), (ACC:0.820000)\n",
            "\n",
            "Train Epoch: 76 [59900/60000 (100%)]\tLoss: 0.284420\tAcc: 0.910000\n",
            "Test set: Avg. loss: 0.0029, Accuracy: 4926/10000 (49%), (ACC:0.820000)\n",
            "\n",
            "Train Epoch: 77 [59900/60000 (100%)]\tLoss: 0.284030\tAcc: 0.910000\n",
            "Test set: Avg. loss: 0.0029, Accuracy: 4926/10000 (49%), (ACC:0.820000)\n",
            "\n",
            "Train Epoch: 78 [59900/60000 (100%)]\tLoss: 0.283645\tAcc: 0.910000\n",
            "Test set: Avg. loss: 0.0029, Accuracy: 4926/10000 (49%), (ACC:0.820000)\n",
            "\n",
            "Train Epoch: 79 [59900/60000 (100%)]\tLoss: 0.283265\tAcc: 0.910000\n",
            "Test set: Avg. loss: 0.0029, Accuracy: 4926/10000 (49%), (ACC:0.820000)\n",
            "\n",
            "Train Epoch: 80 [59900/60000 (100%)]\tLoss: 0.282890\tAcc: 0.900000\n",
            "Test set: Avg. loss: 0.0029, Accuracy: 4926/10000 (49%), (ACC:0.820000)\n",
            "\n",
            "Train Epoch: 81 [59900/60000 (100%)]\tLoss: 0.282521\tAcc: 0.900000\n",
            "Test set: Avg. loss: 0.0029, Accuracy: 4926/10000 (49%), (ACC:0.820000)\n",
            "\n",
            "Train Epoch: 82 [59900/60000 (100%)]\tLoss: 0.282155\tAcc: 0.900000\n",
            "Test set: Avg. loss: 0.0029, Accuracy: 4926/10000 (49%), (ACC:0.820000)\n",
            "\n",
            "Train Epoch: 83 [59900/60000 (100%)]\tLoss: 0.281795\tAcc: 0.900000\n",
            "Test set: Avg. loss: 0.0029, Accuracy: 4926/10000 (49%), (ACC:0.820000)\n",
            "\n",
            "Train Epoch: 84 [59900/60000 (100%)]\tLoss: 0.281439\tAcc: 0.900000\n",
            "Test set: Avg. loss: 0.0029, Accuracy: 4926/10000 (49%), (ACC:0.820000)\n",
            "\n",
            "Train Epoch: 85 [59900/60000 (100%)]\tLoss: 0.281088\tAcc: 0.900000\n",
            "Test set: Avg. loss: 0.0029, Accuracy: 4926/10000 (49%), (ACC:0.820000)\n",
            "\n",
            "Train Epoch: 86 [59900/60000 (100%)]\tLoss: 0.280741\tAcc: 0.900000\n",
            "Test set: Avg. loss: 0.0029, Accuracy: 4926/10000 (49%), (ACC:0.820000)\n",
            "\n",
            "Train Epoch: 87 [59900/60000 (100%)]\tLoss: 0.280398\tAcc: 0.900000\n",
            "Test set: Avg. loss: 0.0029, Accuracy: 4926/10000 (49%), (ACC:0.820000)\n",
            "\n",
            "Train Epoch: 88 [59900/60000 (100%)]\tLoss: 0.280060\tAcc: 0.900000\n",
            "Test set: Avg. loss: 0.0029, Accuracy: 4926/10000 (49%), (ACC:0.820000)\n",
            "\n",
            "Train Epoch: 89 [59900/60000 (100%)]\tLoss: 0.279726\tAcc: 0.900000\n",
            "Test set: Avg. loss: 0.0029, Accuracy: 4926/10000 (49%), (ACC:0.820000)\n",
            "\n",
            "Train Epoch: 90 [59900/60000 (100%)]\tLoss: 0.279395\tAcc: 0.900000\n",
            "Test set: Avg. loss: 0.0029, Accuracy: 4926/10000 (49%), (ACC:0.820000)\n",
            "\n",
            "Train Epoch: 91 [59900/60000 (100%)]\tLoss: 0.279069\tAcc: 0.900000\n",
            "Test set: Avg. loss: 0.0029, Accuracy: 4926/10000 (49%), (ACC:0.820000)\n",
            "\n",
            "Train Epoch: 92 [59900/60000 (100%)]\tLoss: 0.278747\tAcc: 0.900000\n",
            "Test set: Avg. loss: 0.0029, Accuracy: 4926/10000 (49%), (ACC:0.810000)\n",
            "\n",
            "Train Epoch: 93 [59900/60000 (100%)]\tLoss: 0.278429\tAcc: 0.900000\n",
            "Test set: Avg. loss: 0.0029, Accuracy: 4926/10000 (49%), (ACC:0.810000)\n",
            "\n",
            "Train Epoch: 94 [59900/60000 (100%)]\tLoss: 0.278114\tAcc: 0.900000\n",
            "Test set: Avg. loss: 0.0029, Accuracy: 4926/10000 (49%), (ACC:0.810000)\n",
            "\n",
            "Train Epoch: 95 [59900/60000 (100%)]\tLoss: 0.277803\tAcc: 0.900000\n",
            "Test set: Avg. loss: 0.0029, Accuracy: 4926/10000 (49%), (ACC:0.810000)\n",
            "\n",
            "Train Epoch: 96 [59900/60000 (100%)]\tLoss: 0.277496\tAcc: 0.890000\n",
            "Test set: Avg. loss: 0.0029, Accuracy: 4926/10000 (49%), (ACC:0.810000)\n",
            "\n",
            "Train Epoch: 97 [59900/60000 (100%)]\tLoss: 0.277192\tAcc: 0.890000\n",
            "Test set: Avg. loss: 0.0029, Accuracy: 4926/10000 (49%), (ACC:0.810000)\n",
            "\n",
            "Train Epoch: 98 [59900/60000 (100%)]\tLoss: 0.276891\tAcc: 0.890000\n",
            "Test set: Avg. loss: 0.0029, Accuracy: 4926/10000 (49%), (ACC:0.810000)\n",
            "\n",
            "Train Epoch: 99 [59900/60000 (100%)]\tLoss: 0.276595\tAcc: 0.890000\n",
            "Test set: Avg. loss: 0.0029, Accuracy: 4926/10000 (49%), (ACC:0.810000)\n",
            "\n"
          ]
        }
      ],
      "source": [
        "learning_rate = 0.001\n",
        "epochs = 100\n",
        "\n",
        "log_interval = 100\n",
        "\n",
        "loss_fn = nn.BCELoss()\n",
        "optimizer = optim.SGD(model.parameters(), lr=learning_rate)\n",
        "\n",
        "# scheduler = optim.lr_scheduler.CosineAnnealingLR(optimizer, T_max=5, eta_min=0)\n",
        "scheduler = optim.lr_scheduler.ReduceLROnPlateau(optimizer, mode='max', factor=-0.35, patience=5, threshold=1e-2)\n",
        "\n",
        "train_losses = []\n",
        "test_losses = []\n",
        "\n",
        "train_acc = 0\n",
        "for epoch in range(epochs) :\n",
        "  for batch_idx, (data, y) in enumerate(train_loader):\n",
        "    data = Variable(data.view(-1,28 * 28))\n",
        "    y = Variable(y.view(-1))\n",
        "    y = (y%2).float()\n",
        "    \n",
        "    optimizer.zero_grad()\n",
        "    y_pred = model(data)\n",
        "    loss = loss_fn(y_pred.view_as(y), y)\n",
        "    loss.backward()\n",
        "    optimizer.step()\n",
        "\n",
        "  # scheduler.step()\n",
        "  y_lb = (y_pred.data>0.5)*1\n",
        "  train_acc = y_lb.eq(y.view_as(y_lb)).sum() / len(y_lb)\n",
        "  print('Train Epoch: {} [{}/{} ({:.0f}%)]\\tLoss: {:.6f}\\tAcc: {:.6f}'.format( epoch, batch_idx * len(data), len(train_loader.dataset), 100. * batch_idx / len(train_loader), loss.item(), train_acc )) \n",
        "  train_losses.append(loss.item())\n",
        "\n",
        "  test_loss = 0\n",
        "  correct = 0\n",
        "  test_acc = 0\n",
        "  with torch.no_grad():\n",
        "    for data, target in test_loader:\n",
        "      data = Variable(data.view(-1,28 * 28))\n",
        "      target = Variable(target.view(-1))\n",
        "      target = (target%2).float()\n",
        "      \n",
        "      y_pred = model(data)\n",
        "      y_lb = (y_pred.data>0.5)*1\n",
        "\n",
        "      test_loss += loss_fn(y_pred.view_as(target), target)\n",
        "      pred = y_pred.data.max(1, keepdim=True)[1]\n",
        "      \n",
        "      test_acc = y_lb.eq(target.view_as(y_lb)).sum() / len(y_lb)\n",
        "      correct += pred.eq(target.data.view_as(pred)).sum()\n",
        "  test_loss /= len(test_loader.dataset)\n",
        "  test_losses.append(test_loss)\n",
        "  print('Test set: Avg. loss: {:.4f}, Accuracy: {}/{} ({:.0f}%), (ACC:{:.6f})\\n'.format(test_loss, correct, len(test_loader.dataset), 100. * correct / len(test_loader.dataset), test_acc))\n",
        "\n",
        "scheduler.step(test_acc)\n",
        " "
      ]
    },
    {
      "cell_type": "markdown",
      "metadata": {
        "id": "Pfhet97DjVN8"
      },
      "source": [
        "# 3. MNIST+SOFTMAX, MNIST+NN, dropout, regularization, etc"
      ]
    },
    {
      "cell_type": "markdown",
      "metadata": {
        "id": "gC2KVb3y_Oyz"
      },
      "source": [
        "1. MNIST + No hidden layer + 10 output layer(Softmax)\n",
        "2. MNIST + N hidden layer + 10 output layer\n",
        "    1. 리스트 형태로 숫자 받아서 히든 레이어 만들기\n",
        "    ex) input : [128,64,32]\n",
        "\n",
        "    Model : 784 - 128 - 64 - 32 - 10\n",
        "    \n",
        "    Activation function은 자유롭게 쓰고 싶은거 사용\n",
        "3. 2.+ dropout layer\n",
        "4. 2.+ kernal regularizarion\n",
        "    1. L1, L2 두개 구현하기, weight decay 와 앞에 두개의 차이\n",
        "5. 레이어 initialization 방법 적용하기"
      ]
    },
    {
      "cell_type": "code",
      "execution_count": null,
      "metadata": {
        "colab": {
          "background_save": true,
          "base_uri": "https://localhost:8080/",
          "height": 589
        },
        "id": "z0eQ__VljbWy",
        "outputId": "e89d95a0-577e-4f8c-975a-d9ed7d2ff997"
      },
      "outputs": [
        {
          "name": "stdout",
          "output_type": "stream",
          "text": [
            "True\n",
            "학습을 진행하는 기기: cuda:0 \n",
            "\n",
            "train_set (shape) :  torch.Size([100, 1, 28, 28])\n",
            "test_loader (shape) :  torch.Size([100, 1, 28, 28])\n",
            "x.shape :  torch.Size([1, 28, 28])\n",
            "y :  5\n"
          ]
        }
      ],
      "source": [
        "import torch\n",
        "import torch.nn as nn\n",
        "import torch.nn.functional as F\n",
        "import torch.optim as optim\n",
        "import torchvision\n",
        "import torchvision.transforms as transfroms\n",
        "from torch.autograd import Variable\n",
        "\n",
        "USE_CUDA = torch.cuda.is_available()\n",
        "print(USE_CUDA)\n",
        "\n",
        "device = torch.device('cuda:0' if USE_CUDA else 'cpu')\n",
        "print('학습을 진행하는 기기:',device ,\"\\n\")\n",
        "\n",
        "batch_size = 100\n",
        "\n",
        "# MNIST 데이터셋 로드\n",
        "train_set = torchvision.datasets.MNIST(\n",
        "    root = './data/MNIST',\n",
        "    train = True,\n",
        "    download = True,\n",
        "    transform = transfroms.Compose([\n",
        "        transfroms.ToTensor() # 데이터를 0에서 255까지 있는 값을 0에서 1사이 값으로 변환\n",
        "    ])\n",
        ")\n",
        "test_set = torchvision.datasets.MNIST(\n",
        "    root = './data/MNIST',\n",
        "    train = False,\n",
        "    download = True,\n",
        "    transform = transfroms.Compose([\n",
        "        transfroms.ToTensor() # 데이터를 0에서 255까지 있는 값을 0에서 1사이 값으로 변환\n",
        "    ])\n",
        ")\n",
        " \n",
        "# train_loader, test_loader 생성\n",
        "train_loader = torch.utils.data.DataLoader(train_set, batch_size=batch_size)\n",
        "test_loader = torch.utils.data.DataLoader(test_set, batch_size=batch_size)\n",
        " \n",
        "\n",
        "# input size를 알기 위해서\n",
        "examples = enumerate(train_loader)\n",
        "batch_idx, (example_data, example_targets) = next(examples)\n",
        "print(\"train_set (shape) : \", example_data.shape)\n",
        "\n",
        "examples = enumerate(test_loader)\n",
        "batch_idx, (example_data, example_targets) = next(examples)\n",
        "print(\"test_loader (shape) : \",example_data.shape)\n",
        "\n",
        "x = train_set[0][0]\n",
        "y = train_set[0][1]\n",
        "print(\"x.shape : \", x.shape)\n",
        "print(\"y : \", y)"
      ]
    },
    {
      "cell_type": "code",
      "execution_count": null,
      "metadata": {
        "colab": {
          "background_save": true,
          "base_uri": "https://localhost:8080/"
        },
        "id": "bXy8fqlOlIRL",
        "outputId": "3885a9cb-2aae-4f7e-815f-0bfbb5e4c69d"
      },
      "outputs": [
        {
          "name": "stdout",
          "output_type": "stream",
          "text": [
            "<<<<< model1 >>>>>\n",
            "Net(\n",
            "  (layers): ModuleList()\n",
            "  (out): Linear(in_features=784, out_features=10, bias=True)\n",
            ")\n",
            "<<<<< model2 >>>>>\n",
            "Net(\n",
            "  (layers): ModuleList(\n",
            "    (0): Linear(in_features=784, out_features=128, bias=True)\n",
            "    (1): Linear(in_features=128, out_features=64, bias=True)\n",
            "    (2): Linear(in_features=64, out_features=32, bias=True)\n",
            "  )\n",
            "  (out): Linear(in_features=32, out_features=10, bias=True)\n",
            ")\n",
            "<<<<< model3 >>>>>\n",
            "Net(\n",
            "  (layers): ModuleList(\n",
            "    (0): Linear(in_features=784, out_features=128, bias=True)\n",
            "    (1): Dropout(p=0.2, inplace=False)\n",
            "    (2): Linear(in_features=128, out_features=64, bias=True)\n",
            "    (3): Dropout(p=0.2, inplace=False)\n",
            "    (4): Linear(in_features=64, out_features=32, bias=True)\n",
            "    (5): Dropout(p=0.2, inplace=False)\n",
            "  )\n",
            "  (out): Linear(in_features=32, out_features=10, bias=True)\n",
            ")\n"
          ]
        }
      ],
      "source": [
        "class Net(nn.Module):\n",
        "    def __init__(self,  layers_data: list, dr_rate = 0):\n",
        "        super(Net, self).__init__()\n",
        "        input_size = 28*28\n",
        "        output_size = 10\n",
        "\n",
        "        self.layers = nn.ModuleList()\n",
        "        for size in layers_data:\n",
        "            self.layers.append(nn.Linear(input_size, size))\n",
        "            input_size = size  # For the next layer\n",
        "\n",
        "            if dr_rate != 0  :\n",
        "              self.layers.append(nn.Dropout(p=dr_rate))\n",
        "\n",
        "        self.out = nn.Linear(input_size, output_size)\n",
        "    \n",
        "        if USE_CUDA:\n",
        "            self.out = self.out.cuda()\n",
        "\n",
        "\n",
        "    # def _init_weights(self, module):\n",
        "    #     if isinstance(module, nn.Linear):\n",
        "    #         module.weight.data.normal_(mean=0.0, std=1.0)\n",
        "    #         if module.bias is not None:\n",
        "    #             module.bias.data.zero_()\n",
        "\n",
        "\n",
        "    def forward(self, x):\n",
        "        x = x.view(-1, 784) # Flatten the data(n, 1, 28, 28) - > (n, 784)\n",
        "        for layer in self.layers:\n",
        "            # x = layer(x)\n",
        "            x = F.relu(layer(x))\n",
        "            \n",
        "        output= F.softmax(self.out(x), dim=1)\n",
        "        return output\n",
        "\n",
        "\n",
        "print(\"<<<<< model1 >>>>>\")\n",
        "layers_data  = []\n",
        "model = Net(layers_data).to(device)\n",
        "print(model)\n",
        "\n",
        "print(\"<<<<< model2 >>>>>\")\n",
        "layers_data  = [128,64,32]\n",
        "model = Net(layers_data).to(device)\n",
        "print(model)\n",
        "\n",
        "print(\"<<<<< model3 >>>>>\")\n",
        "layers_data  = [128,64,32]\n",
        "model = Net(layers_data, 0.2).to(device)\n",
        "print(model)"
      ]
    },
    {
      "cell_type": "code",
      "execution_count": null,
      "metadata": {
        "colab": {
          "background_save": true
        },
        "id": "oZHbTykAlIO-"
      },
      "outputs": [],
      "source": [
        "def training(model, epochs=100, learning_rate=0.001, norm_v=-1, norm_c=0.3):\n",
        "  norm = 0\n",
        "\n",
        "  loss_fn = nn.CrossEntropyLoss()\n",
        "  optimizer = optim.SGD(model.parameters(), lr=learning_rate)\n",
        "\n",
        "  train_losses = []\n",
        "  test_losses = []\n",
        "\n",
        "  train_acc = 0\n",
        "  for epoch in range(epochs) :\n",
        "    for batch_idx, (data, y) in enumerate(train_loader):\n",
        "      data, y = data.to(device), y.to(device)\n",
        "      # data = Variable(data.view(-1,28 * 28))\n",
        "      y = Variable(y.view(-1))\n",
        "      \n",
        "      optimizer.zero_grad()\n",
        "      y_pred = model(data)       \n",
        "\n",
        "      loss = loss_fn(y_pred, y)\n",
        "\n",
        "      if norm_v == 1 :\n",
        "        norm = sum(map(abs, torch.argmax(y_pred,dim=1)  - y))  / len(y)\n",
        "      elif norm_v == 2 :\n",
        "        norm = sum(pow( ( torch.argmax(y_pred,dim=1)  - y ) , 2) )  / len(y) \n",
        "        # regularity =  torch.norm(model.fc.weight, p=p)\n",
        "      loss = loss + norm_c*norm\n",
        "    \n",
        "      loss.backward()\n",
        "      optimizer.step()\n",
        "    \n",
        "    y_lb = torch.argmax(y_pred,dim=1)\n",
        "    train_acc = y_lb.eq(y.view_as(y_lb)).sum() / len(y_lb)\n",
        "    print('Train Epoch: {} [{}/{} ({:.0f}%)]\\tLoss: {:.6f}\\tAcc: {:.6f}'.format( epoch, batch_idx * len(data), len(train_loader.dataset), 100. * batch_idx / len(train_loader), loss.item(), train_acc )) \n",
        "    train_losses.append(loss.item())\n",
        "\n",
        "\n",
        "    if epoch % 10 == 0 :\n",
        "      test_loss = 0\n",
        "      test_acc = 0\n",
        "      with torch.no_grad():\n",
        "        for data, y in test_loader:\n",
        "          data, y = data.to(device), y.to(device)\n",
        "          y = Variable(y.view(-1))\n",
        "            \n",
        "          y_pred = model(data)\n",
        "          y_lb = torch.argmax(y_pred,dim=1)\n",
        "          # pred = y_pred.data.max(1, keepdim=True)[1]\n",
        "\n",
        "          test_loss += loss_fn(y_pred, y).float()\n",
        "          test_acc += y_lb.eq(y.view_as(y_lb)).sum().float()\n",
        "      test_loss /= len(test_loader.dataset)\n",
        "      test_acc /= len(test_loader.dataset)\n",
        "      print('Test set: Avg. Loss: {:.4f}, (ACC:{:.6f})\\n'.format(test_loss, test_acc))\n",
        "\n",
        "  return model, [train_acc.item(), train_losses[-1], test_acc.item(), test_loss.item()] "
      ]
    },
    {
      "cell_type": "code",
      "execution_count": null,
      "metadata": {
        "colab": {
          "base_uri": "https://localhost:8080/"
        },
        "id": "Hyf4To5JEh6w",
        "outputId": "48602f11-acaa-442c-9c45-7c6200f5d1fc"
      },
      "outputs": [
        {
          "name": "stdout",
          "output_type": "stream",
          "text": [
            "-------------------- Model1 --------------------\n"
          ]
        }
      ],
      "source": [
        "layers_data  = []\n",
        "model1 = Net(layers_data)\n",
        "\n",
        "layers_data  = [128,64,32]\n",
        "model2 = Net(layers_data)\n",
        "\n",
        "layers_data  = [128,64,32]\n",
        "model3 = Net(layers_data, 0.2)\n",
        "\n",
        "print(\"-------------------- Model1 --------------------\")\n",
        "md1, result1 = training(model1, epochs=100, learning_rate=0.005)\n",
        "\n",
        "print(\"-------------------- Model2 --------------------\")\n",
        "md2, result2 = training(model2, epochs=100, learning_rate=0.005)\n",
        "\n",
        "print(\"-------------------- Model3 --------------------\")\n",
        "md3, result3 = training(model3, epochs=100, learning_rate=0.005)\n",
        "\n",
        "print(\"-------------------- Model4 --------------------\")\n",
        "layers_data  = [128,64,32]\n",
        "model3 = Net(layers_data, 0.2)\n",
        "md4, result4 = training(model3, epochs=100, learning_rate=0.005, norm_v=1, norm_c=0.2)\n",
        "\n",
        "print(\"-------------------- Model5 --------------------\")\n",
        "layers_data  = [128,64,32]\n",
        "model3 = Net(layers_data, 0.2)\n",
        "md5, result5 = training(model3, epochs=100, learning_rate=0.005, norm_v=2, norm_c=0.2)\n",
        "\n",
        "\n",
        "print(\"-------------------- Result --------------------\")\n",
        "print( \"model1 : TrAcc:{:.5f} TestAcc:{:.5f}, TrLoss{:.5f} TestLoss{:.5f} \".format(result1[0],result1[2], result1[1],result1[3] ) )\n",
        "print( \"model2 : TrAcc:{:.5f} TestAcc:{:.5f}, TrLoss{:.5f} TestLoss{:.5f} \".format(result2[0],result2[2], result2[1],result2[3] ) )\n",
        "print( \"model3 : TrAcc:{:.5f} TestAcc:{:.5f}, TrLoss{:.5f} TestLoss{:.5f} \".format(result3[0],result3[2], result3[1],result3[3] ) )\n",
        "print( \"model4 : TrAcc:{:.5f} TestAcc:{:.5f}, TrLoss{:.5f} TestLoss{:.5f} \".format(result4[0],result4[2], result4[1],result4[3] ) )\n",
        "print( \"model5 : TrAcc:{:.5f} TestAcc:{:.5f}, TrLoss{:.5f} TestLoss{:.5f} \".format(result5[0],result5[2], result5[1],result5[3] ) )"
      ]
    },
    {
      "cell_type": "code",
      "execution_count": null,
      "metadata": {
        "id": "EnIVzmF3EiB3"
      },
      "outputs": [],
      "source": [
        "# epochs=100, learning_rate=0.001\n",
        "# -------------------- Result --------------------\n",
        "# model1 : TrAcc:0.51900 TestAcc:0.51250, TrLoss2.16309 TestLoss0.00217 \n",
        "# model2 : TrAcc:0.15800 TestAcc:0.17150, TrLoss2.29884 TestLoss0.00230 \n",
        "# model3 : TrAcc:0.19600 TestAcc:0.17470, TrLoss2.29824 TestLoss0.00230 \n",
        "# model4 : TrAcc:0.25800 TestAcc:0.24920, TrLoss3.03882 TestLoss0.00230 \n",
        "# model5 : TrAcc:0.16200 TestAcc:0.13340, TrLoss5.56107 TestLoss0.00230 \n",
        "\n",
        "\n",
        "# epochs=200, learning_rate=0.003\n",
        "# -------------------- Result --------------------\n",
        "# model1 : TrAcc:0.83500 TestAcc:0.78780, TrLoss1.73969 TestLoss0.00179 \n",
        "# model2 : TrAcc:0.47500 TestAcc:0.44470, TrLoss2.03771 TestLoss0.00205 \n",
        "# model3 : TrAcc:0.35900 TestAcc:0.35720, TrLoss2.14618 TestLoss0.00214 \n",
        "# model4 : TrAcc:0.48400 TestAcc:0.44800, TrLoss2.65976 TestLoss0.00207 \n",
        "# model5 : TrAcc:0.44000 TestAcc:0.40960, TrLoss5.73952 TestLoss0.00219 \n",
        "\n",
        "# epochs=300, learning_rate=0.005, norm_c=0.2\n"
      ]
    },
    {
      "cell_type": "code",
      "execution_count": null,
      "metadata": {
        "id": "OzwVTTAHEiE1"
      },
      "outputs": [],
      "source": []
    },
    {
      "cell_type": "code",
      "execution_count": null,
      "metadata": {
        "id": "8vxxNx7cEiHp"
      },
      "outputs": [],
      "source": []
    },
    {
      "cell_type": "code",
      "execution_count": null,
      "metadata": {
        "id": "2xVoBRvHClna"
      },
      "outputs": [],
      "source": [
        "import torch.nn.init as init\n",
        "\n",
        "def init_weights(m):\n",
        "    if type(m) == nn.Linear:\n",
        "        torch.nn.init.xavier_uniform(m.weight)\n",
        "        m.bias.data.fill_(0.01)"
      ]
    },
    {
      "cell_type": "code",
      "execution_count": null,
      "metadata": {
        "colab": {
          "base_uri": "https://localhost:8080/"
        },
        "id": "h0_tghnlC16a",
        "outputId": "5515ad64-c827-492b-f20b-87b802408ea2"
      },
      "outputs": [
        {
          "name": "stderr",
          "output_type": "stream",
          "text": [
            "/usr/local/lib/python3.7/dist-packages/ipykernel_launcher.py:15: UserWarning: nn.init.xavier_uniform is now deprecated in favor of nn.init.xavier_uniform_.\n",
            "  from ipykernel import kernelapp as app\n"
          ]
        },
        {
          "data": {
            "text/plain": [
              "Net(\n",
              "  (layers): ModuleList(\n",
              "    (0): Linear(in_features=784, out_features=128, bias=True)\n",
              "    (1): Linear(in_features=128, out_features=64, bias=True)\n",
              "    (2): Linear(in_features=64, out_features=32, bias=True)\n",
              "    (3): Dropout(p=0.2, inplace=False)\n",
              "  )\n",
              "  (out): Linear(in_features=32, out_features=10, bias=True)\n",
              ")"
            ]
          },
          "execution_count": 18,
          "metadata": {},
          "output_type": "execute_result"
        }
      ],
      "source": [
        "model3.apply(init_weights)\n"
      ]
    },
    {
      "cell_type": "code",
      "execution_count": null,
      "metadata": {
        "id": "DpHrVNmllIJM"
      },
      "outputs": [],
      "source": []
    },
    {
      "cell_type": "code",
      "execution_count": null,
      "metadata": {
        "id": "RoTMa0smlIGk"
      },
      "outputs": [],
      "source": []
    },
    {
      "cell_type": "code",
      "execution_count": null,
      "metadata": {
        "id": "gQNKKPiC8AuJ"
      },
      "outputs": [],
      "source": []
    },
    {
      "cell_type": "markdown",
      "metadata": {
        "id": "RuR_KevY7_Lt"
      },
      "source": [
        "# 새 섹션"
      ]
    },
    {
      "cell_type": "code",
      "execution_count": null,
      "metadata": {
        "id": "FyW8kOQi8AZb"
      },
      "outputs": [],
      "source": []
    },
    {
      "cell_type": "markdown",
      "metadata": {
        "id": "FQmf2gaUja3g"
      },
      "source": [
        "# EX) 참고 예제  (1)"
      ]
    },
    {
      "cell_type": "code",
      "execution_count": null,
      "metadata": {
        "colab": {
          "base_uri": "https://localhost:8080/"
        },
        "id": "e-3vTzI6641M",
        "outputId": "76ec09da-2433-4fcb-e414-2a8eac46426b"
      },
      "outputs": [
        {
          "name": "stdout",
          "output_type": "stream",
          "text": [
            "cpu is available\n"
          ]
        },
        {
          "data": {
            "text/plain": [
              "torch.Size([1, 28, 28])"
            ]
          },
          "execution_count": 6,
          "metadata": {},
          "output_type": "execute_result"
        }
      ],
      "source": [
        "### ref1. https://yong0810.tistory.com/17\n",
        "\n",
        "import torch\n",
        "import torch.nn as nn\n",
        "import torch.nn.functional as F\n",
        "import torch.optim as optim\n",
        "import torchvision\n",
        "import torchvision.transforms as transfroms\n",
        " \n",
        "device = 'cuda' if torch.cuda.is_available() else 'cpu'\n",
        "torch.manual_seed(777)\n",
        "if device == 'cuda':\n",
        "    torch.cuda.manual_seed_all(777)\n",
        "print(device + \" is available\")\n",
        " \n",
        "learning_rate = 0.001\n",
        "batch_size = 100\n",
        "num_classes = 10\n",
        "epochs = 5\n",
        " \n",
        "# MNIST 데이터셋 로드\n",
        "train_set = torchvision.datasets.MNIST(\n",
        "    root = './data/MNIST',\n",
        "    train = True,\n",
        "    download = True,\n",
        "    transform = transfroms.Compose([\n",
        "        transfroms.ToTensor() # 데이터를 0에서 255까지 있는 값을 0에서 1사이 값으로 변환\n",
        "    ])\n",
        ")\n",
        "test_set = torchvision.datasets.MNIST(\n",
        "    root = './data/MNIST',\n",
        "    train = False,\n",
        "    download = True,\n",
        "    transform = transfroms.Compose([\n",
        "        transfroms.ToTensor() # 데이터를 0에서 255까지 있는 값을 0에서 1사이 값으로 변환\n",
        "    ])\n",
        ")\n",
        " \n",
        "# train_loader, test_loader 생성\n",
        "train_loader = torch.utils.data.DataLoader(train_set, batch_size=batch_size)\n",
        "test_loader = torch.utils.data.DataLoader(test_set, batch_size=batch_size)\n",
        " \n",
        "# input size를 알기 위해서\n",
        "examples = enumerate(train_set)\n",
        "batch_idx, (example_data, example_targets) = next(examples)\n",
        "example_data.shape\n"
      ]
    },
    {
      "cell_type": "code",
      "execution_count": null,
      "metadata": {
        "id": "c2naDQ9K7T_D"
      },
      "outputs": [],
      "source": [
        "class ConvNet(nn.Module):\n",
        "  def __init__(self): # layer 정의\n",
        "        super(ConvNet, self).__init__()\n",
        "\n",
        "        # input size = 28x28 \n",
        "        self.conv1 = nn.Conv2d(1, 10, kernel_size=5) # input channel = 1, filter = 10, kernel size = 5, zero padding = 0, stribe = 1\n",
        "        # ((W-K+2P)/S)+1 공식으로 인해 ((28-5+0)/1)+1=24 -> 24x24로 변환\n",
        "        # maxpooling하면 12x12\n",
        "  \n",
        "        self.conv2 = nn.Conv2d(10, 20, kernel_size=5) # input channel = 1, filter = 10, kernel size = 5, zero padding = 0, stribe = 1\n",
        "        # ((12-5+0)/1)+1=8 -> 8x8로 변환\n",
        "        # maxpooling하면 4x4\n",
        "\n",
        "        self.drop2D = nn.Dropout2d(p=0.25, inplace=False) # 랜덤하게 뉴런을 종료해서 학습을 방해해 학습이 학습용 데이터에 치우치는 현상을 막기 위해 사용\n",
        "        self.mp = nn.MaxPool2d(2)  # 오버피팅을 방지하고, 연산에 들어가는 자원을 줄이기 위해 maxpolling\n",
        "        self.fc1 = nn.Linear(320,100) # 4x4x20 vector로 flat한 것을 100개의 출력으로 변경\n",
        "        self.fc2 = nn.Linear(100,10) # 100개의 출력을 10개의 출력으로 변경\n",
        "\n",
        "  def forward(self, x):\n",
        "        x = F.relu(self.mp(self.conv1(x))) # convolution layer 1번에 relu를 씌우고 maxpool, 결과값은 12x12x10\n",
        "        x = F.relu(self.mp(self.conv2(x))) # convolution layer 2번에 relu를 씌우고 maxpool, 결과값은 4x4x20\n",
        "        x = self.drop2D(x)\n",
        "        x = x.view(x.size(0), -1) # flat\n",
        "        x = self.fc1(x) # fc1 레이어에 삽입\n",
        "        x = self.fc2(x) # fc2 레이어에 삽입\n",
        "        return F.log_softmax(x) # fully-connected layer에 넣고 logsoftmax 적용\n",
        " \n",
        "model = ConvNet().to(device) # CNN instance 생성\n",
        "# Cost Function과 Optimizer 선택\n",
        "criterion = nn.CrossEntropyLoss().to(device)\n",
        "optimizer = torch.optim.Adam(model.parameters(), lr = learning_rate)"
      ]
    },
    {
      "cell_type": "code",
      "execution_count": null,
      "metadata": {
        "colab": {
          "base_uri": "https://localhost:8080/"
        },
        "id": "-z_h-Sj47Xbu",
        "outputId": "03e4389b-9b7c-458c-ae9c-7f43985d47cd"
      },
      "outputs": [
        {
          "name": "stderr",
          "output_type": "stream",
          "text": [
            "/usr/local/lib/python3.7/dist-packages/ipykernel_launcher.py:26: UserWarning: Implicit dimension choice for log_softmax has been deprecated. Change the call to include dim=X as an argument.\n"
          ]
        },
        {
          "name": "stdout",
          "output_type": "stream",
          "text": [
            "[Epoch:    1] cost = 0.31739229\n",
            "[Epoch:    2] cost = 0.114715569\n",
            "[Epoch:    3] cost = 0.0867257565\n",
            "[Epoch:    4] cost = 0.0752806887\n"
          ]
        }
      ],
      "source": [
        "for epoch in range(epochs): # epochs수만큼 반복\n",
        "    avg_cost = 0\n",
        "\n",
        "    for data, target in train_loader:\n",
        "        data = data.to(device)\n",
        "        target = target.to(device)\n",
        "        optimizer.zero_grad() # 모든 model의 gradient 값을 0으로 설정\n",
        "        hypothesis = model(data) # 모델을 forward pass해 결과값 저장 \n",
        "        cost = criterion(hypothesis, target) # output과 target의 loss 계산\n",
        "        cost.backward() # backward 함수를 호출해 gradient 계산\n",
        "        optimizer.step() # 모델의 학습 파라미터 갱신\n",
        "        avg_cost += cost / len(train_loader) # loss 값을 변수에 누적하고 train_loader의 개수로 나눔 = 평균\n",
        "    print('[Epoch: {:>4}] cost = {:>.9}'.format(epoch + 1, avg_cost))\n",
        " \n",
        "# test\n",
        "model.eval() # evaluate mode로 전환 dropout 이나 batch_normalization 해제 \n",
        "with torch.no_grad(): # grad 해제 \n",
        "    correct = 0\n",
        "    total = 0\n",
        "\n",
        "    for data, target in test_loader:\n",
        "        data = data.to(device)\n",
        "        target = target.to(device)\n",
        "        out = model(data)\n",
        "        preds = torch.max(out.data, 1)[1] # 출력이 분류 각각에 대한 값으로 나타나기 때문에, 가장 높은 값을 갖는 인덱스를 추출\n",
        "        total += len(target) # 전체 클래스 개수 \n",
        "        correct += (preds==target).sum().item() # 예측값과 실제값이 같은지 비교\n",
        "        \n",
        "    print('Test Accuracy: ', 100.*correct/total, '%')"
      ]
    }
  ],
  "metadata": {
    "accelerator": "GPU",
    "colab": {
      "collapsed_sections": [
        "C-z_H2MehhPz",
        "-7sKIqnyhkBd",
        "5_bseDK6yGb7",
        "Zhr_q-pDX3ZV",
        "RuR_KevY7_Lt",
        "FQmf2gaUja3g"
      ],
      "provenance": []
    },
    "gpuClass": "standard",
    "kernelspec": {
      "display_name": "Python 3",
      "name": "python3"
    },
    "language_info": {
      "name": "python"
    }
  },
  "nbformat": 4,
  "nbformat_minor": 0
}